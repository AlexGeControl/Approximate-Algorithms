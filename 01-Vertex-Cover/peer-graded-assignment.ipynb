{
 "cells": [
  {
   "cell_type": "markdown",
   "metadata": {},
   "source": [
    "# Vertex Cover on 4-Colorable Graph"
   ]
  },
  {
   "cell_type": "markdown",
   "metadata": {},
   "source": [
    "## Q1. Give a relation between the value val(X) and the cardinality of the two sets"
   ]
  },
  {
   "cell_type": "markdown",
   "metadata": {},
   "source": [
    "**A1.** $$val(X) = |V^{1}|+\\frac{1}{2} |V^{\\frac{1}{2}}|$$"
   ]
  },
  {
   "cell_type": "markdown",
   "metadata": {},
   "source": [
    "## Q2. Give a tight lower bound on the cardinality between the two sets"
   ]
  },
  {
   "cell_type": "markdown",
   "metadata": {},
   "source": [
    "**A2.** Because \n",
    "\n",
    "$$|V^{\\frac{1}{2}}|=\\sum\\nolimits_{c \\in C}|V_c^{\\frac{1}{2}}| \\leqslant 4 |V_3^{\\frac{1}{2}}|$$\n",
    "\n",
    "So we have\n",
    "\n",
    "$$\\frac{1}{4}|V^{\\frac{1}{2}}| \\leqslant |V_3^{\\frac{1}{2}}|$$"
   ]
  },
  {
   "cell_type": "markdown",
   "metadata": {},
   "source": [
    "## Q3. Deduce an upper bound for the given expression "
   ]
  },
  {
   "cell_type": "markdown",
   "metadata": {},
   "source": [
    "**A3.** From the derivation of Q2 we have\n",
    "\n",
    "$$-|V_3^{\\frac{1}{2}}| \\leqslant -\\frac{1}{4}|V^{\\frac{1}{2}}|$$\n",
    "\n",
    "Since\n",
    "\n",
    "$$|V_0^{\\frac{1}{2}}| + |V_1^{\\frac{1}{2}}| + |V_2^{\\frac{1}{2}}|= |V^{\\frac{1}{2}}| - |V_3^{\\frac{1}{2}}|$$\n",
    "\n",
    "\n",
    "So we have\n",
    "\n",
    "\n",
    "$$|V_0^{\\frac{1}{2}}| + |V_1^{\\frac{1}{2}}| + |V_2^{\\frac{1}{2}}| \\leqslant |V^{\\frac{1}{2}}| - \\frac{1}{4}|V^{\\frac{1}{2}}| = \\frac{3}{4}|V^{\\frac{1}{2}}|$$"
   ]
  },
  {
   "cell_type": "markdown",
   "metadata": {},
   "source": [
    "##  Q4. Give an upper bound on the number of vertices in S based on val(X)"
   ]
  },
  {
   "cell_type": "markdown",
   "metadata": {},
   "source": [
    "**A4.** Since\n",
    "\n",
    "$$|S| = |V^{1}| + |V_0^{\\frac{1}{2}}| + |V_1^{\\frac{1}{2}}| + |V_2^{\\frac{1}{2}}|$$\n",
    "\n",
    "\n",
    "So we have\n",
    "\n",
    "\n",
    "$$|S| \\leqslant |V^{1}| + \\frac{3}{4} |V^{\\frac{1}{2}}| = val(X) + \\frac{1}{4} |V^{\\frac{1}{2}}|$$"
   ]
  },
  {
   "cell_type": "markdown",
   "metadata": {},
   "source": [
    "## Q5.  Conclude on the approximation ratio of the rounding procedure"
   ]
  },
  {
   "cell_type": "markdown",
   "metadata": {},
   "source": [
    "**A5.** The ratio is \n",
    "\n",
    "**$$\\frac{3}{2}$$**\n",
    "\n",
    "and the ratio is tight. This can be illustrated using the following example.\n",
    "\n",
    "\n",
    "Consider the graph G = (V, E) in which\n",
    "\n",
    "\n",
    "V = {A, B, C, D}\n",
    "\n",
    "\n",
    "E = {(A, B), (A,C), (B,D), (C,D)}\n",
    "\n",
    "\n",
    "The color of the vertex is specified as the following Python dict.\n",
    "\n",
    "\n",
    "V = {A:0, B:1, C:2, D:3}\n",
    "\n",
    "\n",
    "The fractional solution given by LP is\n",
    "\n",
    "$${x_A^{*}=x_B^{*}=x_C^{*}=x_d^{*}=\\frac{1}{2}}$$\n",
    "\n",
    "The integer solution given by the rounding procedure is\n",
    "\n",
    "$${z_A=z_B=z_C=1, z_D=0}$$\n",
    "\n",
    "So we have\n",
    "\n",
    "$$\\frac{3}{2} val(X) = S$$\n",
    "\n",
    "So the ratio of the rounding procedure is tight."
   ]
  },
  {
   "cell_type": "markdown",
   "metadata": {},
   "source": [
    "## Q6. Show the contradiction under the given condition"
   ]
  },
  {
   "cell_type": "markdown",
   "metadata": {},
   "source": [
    "**A6.** Since X is the solution of LP, from the constraints of LP we know that\n",
    "\n",
    "$$x_u+x_v \\geqslant 1$$\n",
    "\n",
    "So we have\n",
    "\n",
    "$$x_v=1$$"
   ]
  },
  {
   "cell_type": "markdown",
   "metadata": {},
   "source": [
    "## Q7.  Deduce from the previous question the belonging of the two vertices"
   ]
  },
  {
   "cell_type": "markdown",
   "metadata": {},
   "source": [
    "**A7.** The derived result of A6 is equivalent to\n",
    "\n",
    "$$v \\in S$$\n",
    "\n",
    "which contradicts with the given condition "
   ]
  },
  {
   "cell_type": "markdown",
   "metadata": {},
   "source": [
    "## Q8. Show the contradiction under the given condition"
   ]
  },
  {
   "cell_type": "markdown",
   "metadata": {},
   "source": [
    "**A8.** They must both belong to\n",
    "\n",
    "$$V_3^{\\frac{1}{2}}$$"
   ]
  },
  {
   "cell_type": "markdown",
   "metadata": {},
   "source": [
    "## Q9.  Recall that C is a 4-colouring. Explain the contradiction"
   ]
  },
  {
   "cell_type": "markdown",
   "metadata": {},
   "source": [
    "**A9.** The derived result of Q8 shows that \n",
    "\n",
    "$$C(u)=C(v)=3$$ \n",
    "\n",
    "which contradicts with the given condition"
   ]
  },
  {
   "cell_type": "markdown",
   "metadata": {},
   "source": [
    "## Q5.  Give an example of a well-known class of graphs that is 4-colourable."
   ]
  },
  {
   "cell_type": "markdown",
   "metadata": {},
   "source": [
    "**A10.** Every planar graph is 4-colorable. A well-known instance is the world map."
   ]
  }
 ],
 "metadata": {
  "kernelspec": {
   "display_name": "Python 2",
   "language": "python",
   "name": "python2"
  },
  "language_info": {
   "codemirror_mode": {
    "name": "ipython",
    "version": 2
   },
   "file_extension": ".py",
   "mimetype": "text/x-python",
   "name": "python",
   "nbconvert_exporter": "python",
   "pygments_lexer": "ipython2",
   "version": "2.7.10"
  }
 },
 "nbformat": 4,
 "nbformat_minor": 0
}
