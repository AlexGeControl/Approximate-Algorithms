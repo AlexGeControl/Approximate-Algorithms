{
 "cells": [
  {
   "cell_type": "markdown",
   "metadata": {},
   "source": [
    "# Set Up Session"
   ]
  },
  {
   "cell_type": "code",
   "execution_count": 1,
   "metadata": {
    "collapsed": true
   },
   "outputs": [],
   "source": [
    "# Set up session:\n",
    "import numpy as np\n",
    "from cvxopt import matrix, spmatrix, solvers"
   ]
  },
  {
   "cell_type": "markdown",
   "metadata": {},
   "source": [
    "# Problem Description"
   ]
  },
  {
   "cell_type": "code",
   "execution_count": 2,
   "metadata": {
    "collapsed": false
   },
   "outputs": [
    {
     "name": "stdout",
     "output_type": "stream",
     "text": [
      "     pcost       dcost       gap    pres   dres   k/t\n",
      " 0: -1.2000e+00 -4.8000e+00  2e+00  0e+00  1e+00  1e+00\n",
      " 1: -1.3503e+00 -1.6535e+00  2e-01  2e-16  9e-02  5e-02\n",
      " 2: -1.4986e+00 -1.5027e+00  2e-03  2e-16  1e-03  7e-04\n",
      " 3: -1.5000e+00 -1.5000e+00  2e-05  3e-16  1e-05  7e-06\n",
      " 4: -1.5000e+00 -1.5000e+00  2e-07  2e-16  1e-07  7e-08\n",
      " 5: -1.5000e+00 -1.5000e+00  2e-09  6e-17  1e-09  7e-10\n",
      "Optimal solution found.\n"
     ]
    }
   ],
   "source": [
    "# Problem Description:\n",
    "c = matrix(\n",
    "    [-1.0]*3\n",
    ")\n",
    "G = spmatrix(\n",
    "    [1.0]*6+[-1.0]*3,\n",
    "    [0,0,1,1,2,2,3,4,5],\n",
    "    [0,1,0,2,1,2,0,1,2],\n",
    ")\n",
    "h = matrix(\n",
    "    [1.0]*3+[0.0]*3\n",
    ")\n",
    "sol = solvers.lp(c, G, h)"
   ]
  },
  {
   "cell_type": "markdown",
   "metadata": {},
   "source": [
    "# Basic Linear Programming"
   ]
  },
  {
   "cell_type": "code",
   "execution_count": 3,
   "metadata": {
    "collapsed": false
   },
   "outputs": [
    {
     "name": "stdout",
     "output_type": "stream",
     "text": [
      "[ 5.00e-01]\n",
      "[ 5.00e-01]\n",
      "[ 5.00e-01]\n",
      "\n"
     ]
    }
   ],
   "source": [
    "print sol['x']"
   ]
  },
  {
   "cell_type": "markdown",
   "metadata": {},
   "source": [
    "# Approximate Integer Programming through Linear Programming"
   ]
  },
  {
   "cell_type": "code",
   "execution_count": 4,
   "metadata": {
    "collapsed": false
   },
   "outputs": [
    {
     "name": "stdout",
     "output_type": "stream",
     "text": [
      "[ 0.  0.  0.]\n"
     ]
    }
   ],
   "source": [
    "print np.round(sol['x']).ravel()"
   ]
  },
  {
   "cell_type": "markdown",
   "metadata": {},
   "source": [
    "# Vertex Cover Analysis"
   ]
  },
  {
   "cell_type": "markdown",
   "metadata": {},
   "source": [
    "## Vertex Description"
   ]
  },
  {
   "cell_type": "code",
   "execution_count": 5,
   "metadata": {
    "collapsed": true
   },
   "outputs": [],
   "source": [
    "# Vertex names:\n",
    "num_vertex = 9\n",
    "vertex = {\n",
    "    'A': 0,\n",
    "    'B': 1,\n",
    "    'C': 2,\n",
    "    'D': 3,\n",
    "    'E': 4,\n",
    "    'F': 5,\n",
    "    'G': 6,\n",
    "    'H': 7,\n",
    "    'I': 8,    \n",
    "}"
   ]
  },
  {
   "cell_type": "markdown",
   "metadata": {},
   "source": [
    "## Edge Description"
   ]
  },
  {
   "cell_type": "code",
   "execution_count": 6,
   "metadata": {
    "collapsed": false
   },
   "outputs": [],
   "source": [
    "# Adjacency matrix:\n",
    "num_edge = 13\n",
    "row_indices = list(np.repeat(range(num_edge), 2))+range(num_edge,num_edge+2*num_vertex)\n",
    "G = spmatrix(\n",
    "    # Vertices with equal weight:\n",
    "    list([-1]*(2*num_edge)+[1]*num_vertex+[-1]*num_vertex), \n",
    "    # Row indices:\n",
    "    row_indices,\n",
    "    # Column indices:\n",
    "    [\n",
    "        vertex['A'],vertex['B'], \n",
    "        vertex['B'],vertex['C'], \n",
    "        vertex['B'],vertex['D'], \n",
    "        vertex['B'],vertex['F'], \n",
    "        vertex['C'],vertex['E'], \n",
    "        vertex['D'],vertex['G'], \n",
    "        vertex['D'],vertex['I'], \n",
    "        vertex['E'],vertex['F'], \n",
    "        vertex['E'],vertex['H'], \n",
    "        vertex['F'],vertex['G'], \n",
    "        vertex['G'],vertex['H'], \n",
    "        vertex['G'],vertex['I'], \n",
    "        vertex['H'],vertex['I'],\n",
    "        vertex['A'],\n",
    "        vertex['B'],\n",
    "        vertex['C'],\n",
    "        vertex['D'],\n",
    "        vertex['E'],\n",
    "        vertex['F'],\n",
    "        vertex['G'],\n",
    "        vertex['H'],\n",
    "        vertex['I'],\n",
    "        vertex['A'],\n",
    "        vertex['B'],\n",
    "        vertex['C'],\n",
    "        vertex['D'],\n",
    "        vertex['E'],\n",
    "        vertex['F'],\n",
    "        vertex['G'],\n",
    "        vertex['H'],\n",
    "        vertex['I'],\n",
    "    ]\n",
    ")"
   ]
  },
  {
   "cell_type": "markdown",
   "metadata": {},
   "source": [
    "## Loss Objective"
   ]
  },
  {
   "cell_type": "code",
   "execution_count": 7,
   "metadata": {
    "collapsed": true
   },
   "outputs": [],
   "source": [
    "c = matrix(\n",
    "    np.ones((num_vertex, ))\n",
    ")"
   ]
  },
  {
   "cell_type": "markdown",
   "metadata": {},
   "source": [
    "## Constraints"
   ]
  },
  {
   "cell_type": "code",
   "execution_count": 8,
   "metadata": {
    "collapsed": true
   },
   "outputs": [],
   "source": [
    "h = matrix(\n",
    "    list([-1.0]*num_edge+[1.0]*num_vertex+[0.0]*num_vertex)\n",
    ")"
   ]
  },
  {
   "cell_type": "markdown",
   "metadata": {},
   "source": [
    "## Approximate Solution through Linear Programming"
   ]
  },
  {
   "cell_type": "code",
   "execution_count": 9,
   "metadata": {
    "collapsed": false
   },
   "outputs": [
    {
     "name": "stdout",
     "output_type": "stream",
     "text": [
      "     pcost       dcost       gap    pres   dres   k/t\n",
      " 0:  4.5000e+00  9.8035e+00  6e+01  1e+00  4e+00  1e+00\n",
      " 1:  4.1531e+00  5.9714e+00  2e+00  2e-01  6e-01  1e+00\n",
      " 2:  4.1913e+00  4.8352e+00  7e-01  6e-02  2e-01  4e-01\n",
      " 3:  4.0227e+00  4.0670e+00  1e-01  9e-03  3e-02  1e-02\n",
      " 4:  4.0004e+00  4.0010e+00  2e-03  1e-04  4e-04  1e-04\n",
      " 5:  4.0000e+00  4.0000e+00  2e-05  1e-06  4e-06  1e-06\n",
      " 6:  4.0000e+00  4.0000e+00  2e-07  1e-08  4e-08  1e-08\n",
      "Optimal solution found.\n",
      "[-2.26e-09]\n",
      "[ 1.00e+00]\n",
      "[ 1.67e-08]\n",
      "[ 3.78e-08]\n",
      "[ 1.00e+00]\n",
      "[ 2.92e-08]\n",
      "[ 1.00e+00]\n",
      "[ 3.88e-08]\n",
      "[ 1.00e+00]\n",
      "\n"
     ]
    }
   ],
   "source": [
    "# Solve it exactly:\n",
    "sol = solvers.lp(c, G, h)\n",
    "# Display result:\n",
    "print sol['x']\n",
    "# Round to integers:\n",
    "z = np.round(sol['x']).ravel().astype(np.bool)"
   ]
  },
  {
   "cell_type": "markdown",
   "metadata": {},
   "source": [
    "## Display Result"
   ]
  },
  {
   "cell_type": "code",
   "execution_count": null,
   "metadata": {
    "collapsed": false
   },
   "outputs": [],
   "source": [
    "# Get vertex list: B, E, G, I\n",
    "print z"
   ]
  },
  {
   "cell_type": "code",
   "execution_count": null,
   "metadata": {
    "collapsed": true
   },
   "outputs": [],
   "source": []
  }
 ],
 "metadata": {
  "kernelspec": {
   "display_name": "Python 2",
   "language": "python",
   "name": "python2"
  },
  "language_info": {
   "codemirror_mode": {
    "name": "ipython",
    "version": 2
   },
   "file_extension": ".py",
   "mimetype": "text/x-python",
   "name": "python",
   "nbconvert_exporter": "python",
   "pygments_lexer": "ipython2",
   "version": "2.7.10"
  }
 },
 "nbformat": 4,
 "nbformat_minor": 0
}
