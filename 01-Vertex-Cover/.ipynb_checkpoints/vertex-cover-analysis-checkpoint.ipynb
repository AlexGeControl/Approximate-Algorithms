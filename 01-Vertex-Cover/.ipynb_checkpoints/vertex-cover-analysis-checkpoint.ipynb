{
 "cells": [
  {
   "cell_type": "markdown",
   "metadata": {},
   "source": [
    "# Vertex Cover Analysis"
   ]
  },
  {
   "cell_type": "markdown",
   "metadata": {},
   "source": [
    "## Set Up Session"
   ]
  },
  {
   "cell_type": "code",
   "execution_count": 1,
   "metadata": {
    "collapsed": true
   },
   "outputs": [],
   "source": [
    "# Set up session:\n",
    "import numpy as np\n",
    "from cvxopt import matrix, spmatrix, solvers"
   ]
  },
  {
   "cell_type": "markdown",
   "metadata": {},
   "source": [
    "## Edge Description"
   ]
  },
  {
   "cell_type": "code",
   "execution_count": 10,
   "metadata": {
    "collapsed": false
   },
   "outputs": [
    {
     "name": "stdout",
     "output_type": "stream",
     "text": [
      "     pcost       dcost       gap    pres   dres   k/t\n",
      " 0:  4.5000e+00  9.8035e+00  6e+01  1e+00  4e+00  1e+00\n",
      " 1:  4.1531e+00  5.9714e+00  2e+00  2e-01  6e-01  1e+00\n",
      " 2:  4.1913e+00  4.8352e+00  7e-01  6e-02  2e-01  4e-01\n",
      " 3:  4.0227e+00  4.0670e+00  1e-01  9e-03  3e-02  1e-02\n",
      " 4:  4.0004e+00  4.0010e+00  2e-03  1e-04  4e-04  1e-04\n",
      " 5:  4.0000e+00  4.0000e+00  2e-05  1e-06  4e-06  1e-06\n",
      " 6:  4.0000e+00  4.0000e+00  2e-07  1e-08  4e-08  1e-08\n",
      "Optimal solution found.\n"
     ]
    }
   ],
   "source": [
    "# Vertex names:\n",
    "num_vertex = 9\n",
    "vertex = {\n",
    "    'A': 0,\n",
    "    'B': 1,\n",
    "    'C': 2,\n",
    "    'D': 3,\n",
    "    'E': 4,\n",
    "    'F': 5,\n",
    "    'G': 6,\n",
    "    'H': 7,\n",
    "    'I': 8,    \n",
    "}\n",
    "# Adjacency matrix:\n",
    "num_edge = 13\n",
    "row_indices = list(np.repeat(range(num_edge), 2))+range(num_edge,num_edge+2*num_vertex)\n",
    "c = matrix(\n",
    "    np.ones((num_vertex, ))\n",
    ")\n",
    "G = spmatrix(\n",
    "    # Vertices with equal weight:\n",
    "    list([-1]*(2*num_edge)+[1]*num_vertex+[-1]*num_vertex), \n",
    "    # Row indices:\n",
    "    row_indices,\n",
    "    # Column indices:\n",
    "    [\n",
    "        vertex['A'],vertex['B'], \n",
    "        vertex['B'],vertex['C'], \n",
    "        vertex['B'],vertex['D'], \n",
    "        vertex['B'],vertex['F'], \n",
    "        vertex['C'],vertex['E'], \n",
    "        vertex['D'],vertex['G'], \n",
    "        vertex['D'],vertex['I'], \n",
    "        vertex['E'],vertex['F'], \n",
    "        vertex['E'],vertex['H'], \n",
    "        vertex['F'],vertex['G'], \n",
    "        vertex['G'],vertex['H'], \n",
    "        vertex['G'],vertex['I'], \n",
    "        vertex['H'],vertex['I'],\n",
    "        vertex['A'],\n",
    "        vertex['B'],\n",
    "        vertex['C'],\n",
    "        vertex['D'],\n",
    "        vertex['E'],\n",
    "        vertex['F'],\n",
    "        vertex['G'],\n",
    "        vertex['H'],\n",
    "        vertex['I'],\n",
    "        vertex['A'],\n",
    "        vertex['B'],\n",
    "        vertex['C'],\n",
    "        vertex['D'],\n",
    "        vertex['E'],\n",
    "        vertex['F'],\n",
    "        vertex['G'],\n",
    "        vertex['H'],\n",
    "        vertex['I'],\n",
    "    ]\n",
    ")\n",
    "h = matrix(\n",
    "    list([-1.0]*num_edge+[1.0]*num_vertex+[0.0]*num_vertex)\n",
    ")\n",
    "# Solve it exactly:\n",
    "sol = solvers.lp(c, G, h)\n",
    "# Round to integers:\n",
    "z = np.round(sol['x']).ravel().astype(np.bool)"
   ]
  },
  {
   "cell_type": "code",
   "execution_count": 17,
   "metadata": {
    "collapsed": false
   },
   "outputs": [
    {
     "name": "stdout",
     "output_type": "stream",
     "text": [
      "[False  True False False  True False  True False  True]\n"
     ]
    }
   ],
   "source": [
    "# Get vertex list: B, E, G, I\n",
    "print z"
   ]
  },
  {
   "cell_type": "code",
   "execution_count": null,
   "metadata": {
    "collapsed": true
   },
   "outputs": [],
   "source": []
  }
 ],
 "metadata": {
  "kernelspec": {
   "display_name": "Python 2",
   "language": "python",
   "name": "python2"
  },
  "language_info": {
   "codemirror_mode": {
    "name": "ipython",
    "version": 2
   },
   "file_extension": ".py",
   "mimetype": "text/x-python",
   "name": "python",
   "nbconvert_exporter": "python",
   "pygments_lexer": "ipython2",
   "version": "2.7.10"
  }
 },
 "nbformat": 4,
 "nbformat_minor": 0
}
